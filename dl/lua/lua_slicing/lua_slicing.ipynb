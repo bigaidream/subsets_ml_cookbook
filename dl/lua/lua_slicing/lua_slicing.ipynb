{
 "cells": [
  {
   "cell_type": "code",
   "execution_count": 1,
   "metadata": {
    "collapsed": false
   },
   "outputs": [
    {
     "data": {
      "text/plain": [
       "----------------------------------------------------------------------\t\n",
       "creating a few tensors\t\n"
      ]
     },
     "execution_count": 1,
     "metadata": {},
     "output_type": "execute_result"
    }
   ],
   "source": [
    "print '----------------------------------------------------------------------'\n",
    "print 'creating a few tensors'"
   ]
  },
  {
   "cell_type": "code",
   "execution_count": 2,
   "metadata": {
    "collapsed": false,
    "run_control": {
     "breakpoint": false
    }
   },
   "outputs": [
    {
     "data": {
      "text/plain": [
       "{\n",
       "  deserialize : function: 0x405b0f08\n",
       "  cat : function: 0x40c6e308\n",
       "  cdata : function: 0x40cc9928\n",
       "  newmetatable : function: 0x40c6ec78\n",
       "  atan2 : function: 0x41c45c08\n",
       "  random : function: 0x40c6e330\n",
       "  zero : function: 0x405c4a48\n",
       "  logNormal : function: 0x40c70168\n",
       "  sigmoid : function: 0x40c550c8\n",
       "  getnumcores : function: 0x40c6e998\n",
       "  cross : function: 0x40c66b40\n",
       "  deserializeFromStorage : function: 0x405b0ee8\n",
       "  inverse : function: 0x40c6e420\n",
       "  updateerrorhandlers : function: 0x40c6ede0\n",
       "  isTypeOf : function: 0x405ab040\n",
       "  ByteStorage : table: 0x41c58be8\n",
       "  prod : function: 0x40c66a50\n",
       "  ger : function: 0x40ccd100\n",
       "  eq : function: 0x40c61eb0\n",
       "  getnumthreads : function: 0x40c6e948\n",
       "  ByteTensor : table: 0x40cd3770\n",
       "  Timer : table: 0x40cd5668\n",
       "  addmv : function: 0x40ccda28\n",
       "  match : function: 0x405c4b88\n",
       "  Allocator : table: 0x405ae458\n",
       "  xcorr2 : function: 0x41c51bf8\n",
       "  neg : function: 0x41c62ba8\n",
       "  histc : function: 0x405c0810\n",
       "  pstrf : function: 0x40c6e4c0\n",
       "  bernoulli : function: 0x40c6e380\n",
       "  MemoryFile : table: 0x40cdb418\n",
       "  Storage : table: 0x40cd29f0\n",
       "  ge : function: 0x405b6f20\n",
       "  kthvalue : function: 0x40c6e240\n",
       "  geometric : function: 0x40c6e358\n",
       "  sin : function: 0x40c6e3d0\n",
       "  ones : function: 0x405c4ac0\n",
       "  baddbmm : function: 0x40cd10a0\n",
       "  fill : function: 0x405c4a70\n",
       "  linspace : function: 0x40c6ee08\n",
       "  sum : function: 0x40c66a28\n",
       "  numel : function: 0x40cd1e20\n",
       "  orgqr : function: 0x40c6e538\n",
       "  test : function: 0x405dea70\n",
       "  reshape : function: 0x405c4ae8\n",
       "  getconstructortable : function: 0x40c6e9e8\n",
       "  version : function: 0x40c6ed68\n",
       "  mean : function: 0x40c6ef38\n",
       "  exp : function: 0x405b7f28\n",
       "  addcdiv : function: 0x40c66988\n",
       "  mm : function: 0x40c669d8\n",
       "  xcorr3 : function: 0x40c65f40\n",
       "  ShortTensor : table: 0x40cd5d40\n",
       "  lt : function: 0x405b7f78\n",
       "  triu : function: 0x40c6e2e0\n",
       "  repeatTensor : function: 0x40c58758\n",
       "  eye : function: 0x40c66b90\n",
       "  mul : function: 0x40cd7710\n",
       "  sqrt : function: 0x40c5afc8\n",
       "  LongTensor : table: 0x40cd8468\n",
       "  FloatTensor : table: 0x40cd9678\n",
       "  isTensor : function: 0x405dead8\n",
       "  isequal : function: 0x40c6ebe0\n",
       "  floor : function: 0x40c62ca0\n",
       "  Tester : table: 0x40c73e20\n",
       "  data : function: 0x40cc98e8\n",
       "  CmdLine : table: 0x40ccb370\n",
       "  loadobj : function: 0x405b0e88\n",
       "  saveobj : function: 0x405b0e68\n",
       "  csub : function: 0x40cd6f38\n",
       "  gesv : function: 0x40c52780\n",
       "  cos : function: 0x405c1038\n",
       "  LongStorage : table: 0x40cd0ef0\n",
       "  rand : function: 0x40c57ba8\n",
       "  serialize : function: 0x405b0ea8\n",
       "  Tensor : table: 0x40cda858\n",
       "  diag : function: 0x40c66b68\n",
       "  pointer : function: 0x40c6ed90\n",
       "  load : function: 0x405b0e88\n",
       "  save : function: 0x405b0e68\n",
       "  conv3 : function: 0x405ad6e8\n",
       "  permute : function: 0x405b4000\n",
       "  File : table: 0x40c6e8f8\n",
       "  totable : function: 0x405deab8\n",
       "  uniform : function: 0x40c62b30\n",
       "  all : function: 0x40c5d968\n",
       "  renorm : function: 0x40c69170\n",
       "  chunk : function: 0x405b3fc0\n",
       "  split : function: 0x405b3fa0\n",
       "  scatter : function: 0x40cd4fe8\n",
       "  viewAs : function: 0x405b3f80\n",
       "  addbmm : function: 0x40cd0320\n",
       "  view : function: 0x40c58798\n",
       "  symeig : function: 0x40c5ce98\n",
       "  expandAs : function: 0x40c586f0\n",
       "  clamp : function: 0x405c4b60\n",
       "  expand : function: 0x40c586d0\n",
       "  typename : function: 0x40c6eb98\n",
       "  setdefaulttensortype : function: 0x40c51678\n",
       "  metatype : function: 0x40c6ecf0\n",
       "  class : function: 0x40c53598\n",
       "  sinh : function: 0x405b9ad0\n",
       "  manualSeed : function: 0x405c0be0\n",
       "  packageLuaPath : function: 0x40c5af48\n",
       "  zeros : function: 0x405c4a98\n",
       "  median : function: 0x40c6e290\n",
       "  cosh : function: 0x40c6e3a8\n",
       "  pushudata : function: 0x40c6ed40\n",
       "  updatethreadlocals : function: 0x405ae4a8\n",
       "  setRNGState : function: 0x40c67bd0\n",
       "  getRNGState : function: 0x40c5a8c8\n",
       "  initialSeed : function: 0x40c587f8\n",
       "  FloatStorage : table: 0x40cd1c70\n",
       "  seed : function: 0x40c65368\n",
       "  _gen : torch.Generator\n",
       "  Generator : table: 0x405ae6b8\n",
       "  ormqr : function: 0x40c6e560\n",
       "  geqrf : function: 0x40c6e510\n",
       "  abs : function: 0x40c5d700\n",
       "  dist : function: 0x40c691c0\n",
       "  qr : function: 0x40c6e4e8\n",
       "  mod : function: 0x405c4b38\n",
       "  bmm : function: 0x40c66a00\n",
       "  IntTensor : table: 0x40cd7258\n",
       "  cdiv : function: 0x40c66910\n",
       "  potrs : function: 0x40c6e470\n",
       "  gt : function: 0x405c6b30"
      ]
     },
     "execution_count": 2,
     "metadata": {},
     "output_type": "execute_result"
    },
    {
     "data": {
      "text/plain": [
       "\n",
       "  log1p : function: 0x40c65dd0\n",
       "  include : function: 0x40c53858\n",
       "  svd : function: 0x40c6e3f8\n",
       "  eig : function: 0x405abc90\n",
       "  nonzero : function: 0x405c05f0\n",
       "  normal : function: 0x405a9140\n",
       "  mv : function: 0x40c669b0\n",
       "  exponential : function: 0x40c595d8\n",
       "  any : function: 0x405c07c0\n",
       "  IntStorage : table: 0x40cd0170\n",
       "  dot : function: 0x40cd5a18\n",
       "  range : function: 0x40c66bb8\n",
       "  DiskFile : table: 0x40cd7d88\n",
       "  addr : function: 0x40ccf5a0\n",
       "  trtrs : function: 0x405afc98\n",
       "  multinomial : function: 0x40c5cdc0\n",
       "  tan : function: 0x405b9ba8\n",
       "  randn : function: 0x405acac0\n",
       "  serializeToStorage : function: 0x405b0ec8\n",
       "  pow : function: 0x41c55b38\n",
       "  cinv : function: 0x41c62638\n",
       "  var : function: 0x40c60770\n",
       "  ceil : function: 0x405c2898\n",
       "  setmetatable : function: 0x40c6eca0\n",
       "  cumsum : function: 0x40cd2ba0\n",
       "  cauchy : function: 0x405aa648\n",
       "  ne : function: 0x405c5018\n",
       "  tanh : function: 0x41c554d8\n",
       "  atan : function: 0x405bfae0\n",
       "  potrf : function: 0x40c6e448\n",
       "  DoubleStorage : table: 0x40cd29f0\n",
       "  CharStorage : table: 0x40cce620\n",
       "  asin : function: 0x405b92e0\n",
       "  cmul : function: 0x405c4bb0\n",
       "  std : function: 0x405aafa0\n",
       "  add : function: 0x40cd61f8\n",
       "  addcmul : function: 0x40c66960\n",
       "  div : function: 0x40cd8140\n",
       "  type : function: 0x40c51978\n",
       "  sign : function: 0x40c61970\n",
       "  PipeFile : table: 0x40cd8f48\n",
       "  mode : function: 0x40c6e268\n",
       "  toc : function: 0x40c6e7e0\n",
       "  norm : function: 0x40c68e48\n",
       "  ShortStorage : table: 0x40ccf3c8\n",
       "  tic : function: 0x40c6e730\n",
       "  gels : function: 0x40c5be70\n",
       "  factory : function: 0x40c6e9c0\n",
       "  getdefaulttensortype : function: 0x40c5d2c8\n",
       "  isStorage : function: 0x405deaf8\n",
       "  logspace : function: 0x40c618f0\n",
       "  getmetatable : function: 0x40c6ecc8\n",
       "  CharTensor : table: 0x40cd4b30\n",
       "  setnumthreads : function: 0x40c6e830\n",
       "  gather : function: 0x405c4b10\n",
       "  cpow : function: 0x40c668e8\n",
       "  cumprod : function: 0x40cd4808\n",
       "  potri : function: 0x40c6e498\n",
       "  conv2 : function: 0x405af820\n",
       "  setenv : function: 0x40c6ec50\n",
       "  isatty : function: 0x40c6e6e8\n",
       "  getenv : function: 0x40c6ec08\n",
       "  acos : function: 0x40c692f0\n",
       "  max : function: 0x40c66aa0\n",
       "  cmin : function: 0x40c66ac8\n",
       "  cmax : function: 0x40c66af0\n",
       "  trace : function: 0x40c66b18\n",
       "  DoubleTensor : table: 0x40cda858\n",
       "  topk : function: 0x40c6e218\n",
       "  sort : function: 0x40c6e1f0\n",
       "  min : function: 0x40c66a78\n",
       "  tril : function: 0x40c6e2b8\n",
       "  squeeze : function: 0x41c57ef8\n",
       "  round : function: 0x405ba6a0\n",
       "  addmm : function: 0x40cce820\n",
       "  le : function: 0x405c6d50\n",
       "  randperm : function: 0x40cd3bd8\n",
       "  setheaptracking : function: 0x40c6edb8\n",
       "  cmod : function: 0x40c66938\n",
       "  log : function: 0x40c541f8\n",
       "}\n"
      ]
     },
     "execution_count": 2,
     "metadata": {},
     "output_type": "execute_result"
    }
   ],
   "source": [
    "require 'torch'"
   ]
  },
  {
   "cell_type": "code",
   "execution_count": 3,
   "metadata": {
    "collapsed": true,
    "run_control": {
     "breakpoint": false
    }
   },
   "outputs": [],
   "source": [
    "t1 = torch.range(1, 75):resize(3, 5, 5)"
   ]
  },
  {
   "cell_type": "code",
   "execution_count": 4,
   "metadata": {
    "collapsed": false,
    "run_control": {
     "breakpoint": false
    }
   },
   "outputs": [
    {
     "data": {
      "text/plain": [
       "(1,.,.) = \n",
       "   1   2   3   4   5\n",
       "   6   7   8   9  10\n",
       "  11  12  13  14  15\n",
       "  16  17  18  19  20\n",
       "  21  22  23  24  25\n",
       "\n",
       "(2,.,.) = \n",
       "  26  27  28  29  30\n",
       "  31  32  33  34  35\n",
       "  36  37  38  39  40\n",
       "  41  42  43  44  45\n",
       "  46  47  48  49  50\n",
       "\n",
       "(3,.,.) = \n",
       "  51  52  53  54  55\n",
       "  56  57  58  59  60\n",
       "  61  62  63  64  65\n",
       "  66  67  68  69  70\n",
       "  71  72  73  74  75\n",
       "[torch.DoubleTensor of size 3x5x5]\n",
       "\n"
      ]
     },
     "execution_count": 4,
     "metadata": {},
     "output_type": "execute_result"
    }
   ],
   "source": [
    "t1"
   ]
  },
  {
   "cell_type": "code",
   "execution_count": 5,
   "metadata": {
    "collapsed": true,
    "run_control": {
     "breakpoint": false
    }
   },
   "outputs": [],
   "source": [
    "t2 = torch.range(1, 25):resize(5, 5)"
   ]
  },
  {
   "cell_type": "code",
   "execution_count": 6,
   "metadata": {
    "collapsed": false,
    "run_control": {
     "breakpoint": false
    }
   },
   "outputs": [
    {
     "data": {
      "text/plain": [
       "  1   2   3   4   5\n",
       "  6   7   8   9  10\n",
       " 11  12  13  14  15\n",
       " 16  17  18  19  20\n",
       " 21  22  23  24  25\n",
       "[torch.DoubleTensor of size 5x5]\n",
       "\n"
      ]
     },
     "execution_count": 6,
     "metadata": {},
     "output_type": "execute_result"
    }
   ],
   "source": [
    "t2"
   ]
  },
  {
   "cell_type": "code",
   "execution_count": 9,
   "metadata": {
    "collapsed": false,
    "run_control": {
     "breakpoint": false
    }
   },
   "outputs": [],
   "source": [
    "t3 = torch.range(1, 96):resize(2, 3, 4, 4)"
   ]
  },
  {
   "cell_type": "code",
   "execution_count": 10,
   "metadata": {
    "collapsed": false,
    "run_control": {
     "breakpoint": false
    }
   },
   "outputs": [
    {
     "data": {
      "text/plain": [
       "(1,1,.,.) = \n",
       "   1   2   3   4\n",
       "   5   6   7   8\n",
       "   9  10  11  12\n",
       "  13  14  15  16\n",
       "\n",
       "(2,1,.,.) = \n",
       "  49  50  51  52\n",
       "  53  54  55  56\n",
       "  57  58  59  60\n",
       "  61  62  63  64\n",
       "\n",
       "(1,2,.,.) = \n",
       "  17  18  19  20\n",
       "  21  22  23  24\n",
       "  25  26  27  28\n",
       "  29  30  31  32\n",
       "\n",
       "(2,2,.,.) = \n",
       "  65  66  67  68\n",
       "  69  70  71  72\n",
       "  73  74  75  76\n",
       "  77  78  79  80\n",
       "\n",
       "(1,3,.,.) = \n",
       "  33  34  35  36\n",
       "  37  38  39  40\n",
       "  41  42  43  44\n",
       "  45  46  47  48\n",
       "\n",
       "(2,3,.,.) = \n",
       "  81  82  83  84\n",
       "  85  86  87  88\n",
       "  89  90  91  92\n",
       "  93  94  95  96\n",
       "[torch.DoubleTensor of size 2x3x4x4]\n",
       "\n"
      ]
     },
     "execution_count": 10,
     "metadata": {},
     "output_type": "execute_result"
    }
   ],
   "source": [
    "t3"
   ]
  },
  {
   "cell_type": "code",
   "execution_count": 11,
   "metadata": {
    "collapsed": false,
    "run_control": {
     "breakpoint": false
    }
   },
   "outputs": [
    {
     "data": {
      "text/plain": [
       " 26  27  28  29  30\n",
       " 31  32  33  34  35\n",
       " 36  37  38  39  40\n",
       " 41  42  43  44  45\n",
       " 46  47  48  49  50\n",
       "[torch.DoubleTensor of size 5x5]\n",
       "\n"
      ]
     },
     "execution_count": 11,
     "metadata": {},
     "output_type": "execute_result"
    }
   ],
   "source": [
    "t1[2]"
   ]
  },
  {
   "cell_type": "code",
   "execution_count": 12,
   "metadata": {
    "collapsed": false,
    "run_control": {
     "breakpoint": false
    }
   },
   "outputs": [
    {
     "data": {
      "text/plain": [
       "(1,.,.) = \n",
       "  49  50  51  52\n",
       "  53  54  55  56\n",
       "  57  58  59  60\n",
       "  61  62  63  64\n",
       "\n",
       "(2,.,.) = \n",
       "  65  66  67  68\n",
       "  69  70  71  72\n",
       "  73  74  75  76\n",
       "  77  78  79  80\n",
       "\n",
       "(3,.,.) = \n",
       "  81  82  83  84\n",
       "  85  86  87  88\n",
       "  89  90  91  92\n",
       "  93  94  95  96\n",
       "[torch.DoubleTensor of size 3x4x4]\n",
       "\n"
      ]
     },
     "execution_count": 12,
     "metadata": {},
     "output_type": "execute_result"
    }
   ],
   "source": [
    "t3[2]"
   ]
  },
  {
   "cell_type": "code",
   "execution_count": 13,
   "metadata": {
    "collapsed": false,
    "run_control": {
     "breakpoint": false
    }
   },
   "outputs": [
    {
     "data": {
      "text/plain": [
       "  1   2   3   4   5\n",
       "  6   7   8   9  10\n",
       " 11  12  13  14  15\n",
       " 16  17  18  19  20\n",
       " 21  22  23  24  25\n",
       "[torch.DoubleTensor of size 5x5]\n",
       "\n"
      ]
     },
     "execution_count": 13,
     "metadata": {},
     "output_type": "execute_result"
    }
   ],
   "source": [
    "t2"
   ]
  },
  {
   "cell_type": "code",
   "execution_count": 14,
   "metadata": {
    "collapsed": false,
    "run_control": {
     "breakpoint": false
    }
   },
   "outputs": [
    {
     "data": {
      "text/plain": [
       "  2\n",
       "  7\n",
       " 12\n",
       " 17\n",
       " 22\n",
       "[torch.DoubleTensor of size 5]\n",
       "\n"
      ]
     },
     "execution_count": 14,
     "metadata": {},
     "output_type": "execute_result"
    }
   ],
   "source": [
    "t2[{ {},2 }]"
   ]
  },
  {
   "cell_type": "code",
   "execution_count": 15,
   "metadata": {
    "collapsed": false,
    "run_control": {
     "breakpoint": false
    }
   },
   "outputs": [
    {
     "data": {
      "text/plain": [
       "  6   7   8   9  10\n",
       "[torch.DoubleTensor of size 1x5]\n",
       "\n"
      ]
     },
     "execution_count": 15,
     "metadata": {},
     "output_type": "execute_result"
    }
   ],
   "source": [
    "t2[{ {2},{} }]"
   ]
  },
  {
   "cell_type": "code",
   "execution_count": 16,
   "metadata": {
    "collapsed": false,
    "run_control": {
     "breakpoint": false
    }
   },
   "outputs": [
    {
     "data": {
      "text/plain": [
       "  6\n",
       "  7\n",
       "  8\n",
       "  9\n",
       " 10\n",
       "[torch.DoubleTensor of size 5]\n",
       "\n"
      ]
     },
     "execution_count": 16,
     "metadata": {},
     "output_type": "execute_result"
    }
   ],
   "source": [
    " t2[{ 2,{} }] "
   ]
  },
  {
   "cell_type": "code",
   "execution_count": 17,
   "metadata": {
    "collapsed": false,
    "run_control": {
     "breakpoint": false
    }
   },
   "outputs": [
    {
     "data": {
      "text/plain": [
       "  3   4\n",
       "  8   9\n",
       " 13  14\n",
       "[torch.DoubleTensor of size 3x2]\n",
       "\n"
      ]
     },
     "execution_count": 17,
     "metadata": {},
     "output_type": "execute_result"
    }
   ],
   "source": [
    "t2[{ {1,3},{3,4} }]"
   ]
  },
  {
   "cell_type": "code",
   "execution_count": 18,
   "metadata": {
    "collapsed": false,
    "run_control": {
     "breakpoint": false
    }
   },
   "outputs": [
    {
     "data": {
      "text/plain": [
       " 14\n",
       "[torch.DoubleTensor of size 1x1]\n",
       "\n"
      ]
     },
     "execution_count": 18,
     "metadata": {},
     "output_type": "execute_result"
    }
   ],
   "source": [
    "t2[{ {3},{4} }]"
   ]
  },
  {
   "cell_type": "code",
   "execution_count": 19,
   "metadata": {
    "collapsed": false,
    "run_control": {
     "breakpoint": false
    }
   },
   "outputs": [
    {
     "data": {
      "text/plain": [
       "14\t\n"
      ]
     },
     "execution_count": 19,
     "metadata": {},
     "output_type": "execute_result"
    }
   ],
   "source": [
    "t2[{ 3,4 }]"
   ]
  },
  {
   "cell_type": "code",
   "execution_count": 20,
   "metadata": {
    "collapsed": false,
    "run_control": {
     "breakpoint": false
    }
   },
   "outputs": [
    {
     "data": {
      "text/plain": [
       "  2   3   4\n",
       "  7   8   9\n",
       " 12  13  14\n",
       " 17  18  19\n",
       " 22  23  24\n",
       "[torch.DoubleTensor of size 5x3]\n",
       "\n"
      ]
     },
     "execution_count": 20,
     "metadata": {},
     "output_type": "execute_result"
    }
   ],
   "source": [
    "t2[{ {},{2,-2} }]"
   ]
  },
  {
   "cell_type": "code",
   "execution_count": 21,
   "metadata": {
    "collapsed": false,
    "run_control": {
     "breakpoint": false
    }
   },
   "outputs": [
    {
     "data": {
      "text/plain": [
       "  2\n",
       "  7\n",
       " 12\n",
       " 17\n",
       " 22\n",
       "[torch.DoubleTensor of size 5]\n",
       "\n"
      ]
     },
     "execution_count": 21,
     "metadata": {},
     "output_type": "execute_result"
    }
   ],
   "source": [
    "t2[{ {},2 }]"
   ]
  },
  {
   "cell_type": "code",
   "execution_count": null,
   "metadata": {
    "collapsed": true,
    "run_control": {
     "breakpoint": false
    }
   },
   "outputs": [],
   "source": []
  }
 ],
 "metadata": {
  "kernelspec": {
   "display_name": "iTorch",
   "language": "lua",
   "name": "itorch"
  },
  "language_info": {
   "name": "lua",
   "version": "20004"
  },
  "latex_envs": {
   "bibliofile": "biblio.bib",
   "cite_by": "apalike",
   "current_citInitial": 1,
   "eqLabelWithNumbers": true,
   "eqNumInitial": 0
  }
 },
 "nbformat": 4,
 "nbformat_minor": 0
}
